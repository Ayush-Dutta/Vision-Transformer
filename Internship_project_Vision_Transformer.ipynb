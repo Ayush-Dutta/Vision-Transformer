{
  "nbformat": 4,
  "nbformat_minor": 0,
  "metadata": {
    "colab": {
      "provenance": [],
      "authorship_tag": "ABX9TyMbK00oSBbQt8RpcQnzRw15",
      "include_colab_link": true
    },
    "kernelspec": {
      "name": "python3",
      "display_name": "Python 3"
    },
    "language_info": {
      "name": "python"
    }
  },
  "cells": [
    {
      "cell_type": "markdown",
      "metadata": {
        "id": "view-in-github",
        "colab_type": "text"
      },
      "source": [
        "<a href=\"https://colab.research.google.com/github/Ayush-Dutta/Vision-Transformer/blob/main/Internship_project_Vision_Transformer.ipynb\" target=\"_parent\"><img src=\"https://colab.research.google.com/assets/colab-badge.svg\" alt=\"Open In Colab\"/></a>"
      ]
    },
    {
      "cell_type": "code",
      "execution_count": 1,
      "metadata": {
        "id": "jhTbl5FBlrIF",
        "colab": {
          "base_uri": "https://localhost:8080/"
        },
        "outputId": "a563da93-dba4-4cae-f3e8-758a25e294d5"
      },
      "outputs": [
        {
          "output_type": "stream",
          "name": "stdout",
          "text": [
            "Requirement already satisfied: tensorflow in /usr/local/lib/python3.10/dist-packages (2.15.0)\n",
            "Requirement already satisfied: absl-py>=1.0.0 in /usr/local/lib/python3.10/dist-packages (from tensorflow) (1.4.0)\n",
            "Requirement already satisfied: astunparse>=1.6.0 in /usr/local/lib/python3.10/dist-packages (from tensorflow) (1.6.3)\n",
            "Requirement already satisfied: flatbuffers>=23.5.26 in /usr/local/lib/python3.10/dist-packages (from tensorflow) (24.3.25)\n",
            "Requirement already satisfied: gast!=0.5.0,!=0.5.1,!=0.5.2,>=0.2.1 in /usr/local/lib/python3.10/dist-packages (from tensorflow) (0.5.4)\n",
            "Requirement already satisfied: google-pasta>=0.1.1 in /usr/local/lib/python3.10/dist-packages (from tensorflow) (0.2.0)\n",
            "Requirement already satisfied: h5py>=2.9.0 in /usr/local/lib/python3.10/dist-packages (from tensorflow) (3.9.0)\n",
            "Requirement already satisfied: libclang>=13.0.0 in /usr/local/lib/python3.10/dist-packages (from tensorflow) (18.1.1)\n",
            "Requirement already satisfied: ml-dtypes~=0.2.0 in /usr/local/lib/python3.10/dist-packages (from tensorflow) (0.2.0)\n",
            "Requirement already satisfied: numpy<2.0.0,>=1.23.5 in /usr/local/lib/python3.10/dist-packages (from tensorflow) (1.25.2)\n",
            "Requirement already satisfied: opt-einsum>=2.3.2 in /usr/local/lib/python3.10/dist-packages (from tensorflow) (3.3.0)\n",
            "Requirement already satisfied: packaging in /usr/local/lib/python3.10/dist-packages (from tensorflow) (24.0)\n",
            "Requirement already satisfied: protobuf!=4.21.0,!=4.21.1,!=4.21.2,!=4.21.3,!=4.21.4,!=4.21.5,<5.0.0dev,>=3.20.3 in /usr/local/lib/python3.10/dist-packages (from tensorflow) (3.20.3)\n",
            "Requirement already satisfied: setuptools in /usr/local/lib/python3.10/dist-packages (from tensorflow) (67.7.2)\n",
            "Requirement already satisfied: six>=1.12.0 in /usr/local/lib/python3.10/dist-packages (from tensorflow) (1.16.0)\n",
            "Requirement already satisfied: termcolor>=1.1.0 in /usr/local/lib/python3.10/dist-packages (from tensorflow) (2.4.0)\n",
            "Requirement already satisfied: typing-extensions>=3.6.6 in /usr/local/lib/python3.10/dist-packages (from tensorflow) (4.11.0)\n",
            "Requirement already satisfied: wrapt<1.15,>=1.11.0 in /usr/local/lib/python3.10/dist-packages (from tensorflow) (1.14.1)\n",
            "Requirement already satisfied: tensorflow-io-gcs-filesystem>=0.23.1 in /usr/local/lib/python3.10/dist-packages (from tensorflow) (0.37.0)\n",
            "Requirement already satisfied: grpcio<2.0,>=1.24.3 in /usr/local/lib/python3.10/dist-packages (from tensorflow) (1.63.0)\n",
            "Requirement already satisfied: tensorboard<2.16,>=2.15 in /usr/local/lib/python3.10/dist-packages (from tensorflow) (2.15.2)\n",
            "Requirement already satisfied: tensorflow-estimator<2.16,>=2.15.0 in /usr/local/lib/python3.10/dist-packages (from tensorflow) (2.15.0)\n",
            "Requirement already satisfied: keras<2.16,>=2.15.0 in /usr/local/lib/python3.10/dist-packages (from tensorflow) (2.15.0)\n",
            "Requirement already satisfied: wheel<1.0,>=0.23.0 in /usr/local/lib/python3.10/dist-packages (from astunparse>=1.6.0->tensorflow) (0.43.0)\n",
            "Requirement already satisfied: google-auth<3,>=1.6.3 in /usr/local/lib/python3.10/dist-packages (from tensorboard<2.16,>=2.15->tensorflow) (2.27.0)\n",
            "Requirement already satisfied: google-auth-oauthlib<2,>=0.5 in /usr/local/lib/python3.10/dist-packages (from tensorboard<2.16,>=2.15->tensorflow) (1.2.0)\n",
            "Requirement already satisfied: markdown>=2.6.8 in /usr/local/lib/python3.10/dist-packages (from tensorboard<2.16,>=2.15->tensorflow) (3.6)\n",
            "Requirement already satisfied: requests<3,>=2.21.0 in /usr/local/lib/python3.10/dist-packages (from tensorboard<2.16,>=2.15->tensorflow) (2.31.0)\n",
            "Requirement already satisfied: tensorboard-data-server<0.8.0,>=0.7.0 in /usr/local/lib/python3.10/dist-packages (from tensorboard<2.16,>=2.15->tensorflow) (0.7.2)\n",
            "Requirement already satisfied: werkzeug>=1.0.1 in /usr/local/lib/python3.10/dist-packages (from tensorboard<2.16,>=2.15->tensorflow) (3.0.2)\n",
            "Requirement already satisfied: cachetools<6.0,>=2.0.0 in /usr/local/lib/python3.10/dist-packages (from google-auth<3,>=1.6.3->tensorboard<2.16,>=2.15->tensorflow) (5.3.3)\n",
            "Requirement already satisfied: pyasn1-modules>=0.2.1 in /usr/local/lib/python3.10/dist-packages (from google-auth<3,>=1.6.3->tensorboard<2.16,>=2.15->tensorflow) (0.4.0)\n",
            "Requirement already satisfied: rsa<5,>=3.1.4 in /usr/local/lib/python3.10/dist-packages (from google-auth<3,>=1.6.3->tensorboard<2.16,>=2.15->tensorflow) (4.9)\n",
            "Requirement already satisfied: requests-oauthlib>=0.7.0 in /usr/local/lib/python3.10/dist-packages (from google-auth-oauthlib<2,>=0.5->tensorboard<2.16,>=2.15->tensorflow) (1.3.1)\n",
            "Requirement already satisfied: charset-normalizer<4,>=2 in /usr/local/lib/python3.10/dist-packages (from requests<3,>=2.21.0->tensorboard<2.16,>=2.15->tensorflow) (3.3.2)\n",
            "Requirement already satisfied: idna<4,>=2.5 in /usr/local/lib/python3.10/dist-packages (from requests<3,>=2.21.0->tensorboard<2.16,>=2.15->tensorflow) (3.7)\n",
            "Requirement already satisfied: urllib3<3,>=1.21.1 in /usr/local/lib/python3.10/dist-packages (from requests<3,>=2.21.0->tensorboard<2.16,>=2.15->tensorflow) (2.0.7)\n",
            "Requirement already satisfied: certifi>=2017.4.17 in /usr/local/lib/python3.10/dist-packages (from requests<3,>=2.21.0->tensorboard<2.16,>=2.15->tensorflow) (2024.2.2)\n",
            "Requirement already satisfied: MarkupSafe>=2.1.1 in /usr/local/lib/python3.10/dist-packages (from werkzeug>=1.0.1->tensorboard<2.16,>=2.15->tensorflow) (2.1.5)\n",
            "Requirement already satisfied: pyasn1<0.7.0,>=0.4.6 in /usr/local/lib/python3.10/dist-packages (from pyasn1-modules>=0.2.1->google-auth<3,>=1.6.3->tensorboard<2.16,>=2.15->tensorflow) (0.6.0)\n",
            "Requirement already satisfied: oauthlib>=3.0.0 in /usr/local/lib/python3.10/dist-packages (from requests-oauthlib>=0.7.0->google-auth-oauthlib<2,>=0.5->tensorboard<2.16,>=2.15->tensorflow) (3.2.2)\n",
            "Requirement already satisfied: keras in /usr/local/lib/python3.10/dist-packages (2.15.0)\n",
            "Collecting tensorflow-addons\n",
            "  Downloading tensorflow_addons-0.23.0-cp310-cp310-manylinux_2_17_x86_64.manylinux2014_x86_64.whl (611 kB)\n",
            "\u001b[2K     \u001b[90m━━━━━━━━━━━━━━━━━━━━━━━━━━━━━━━━━━━━━━━━\u001b[0m \u001b[32m611.8/611.8 kB\u001b[0m \u001b[31m8.0 MB/s\u001b[0m eta \u001b[36m0:00:00\u001b[0m\n",
            "\u001b[?25hRequirement already satisfied: packaging in /usr/local/lib/python3.10/dist-packages (from tensorflow-addons) (24.0)\n",
            "Collecting typeguard<3.0.0,>=2.7 (from tensorflow-addons)\n",
            "  Downloading typeguard-2.13.3-py3-none-any.whl (17 kB)\n",
            "Installing collected packages: typeguard, tensorflow-addons\n",
            "Successfully installed tensorflow-addons-0.23.0 typeguard-2.13.3\n"
          ]
        }
      ],
      "source": [
        "!pip install tensorflow\n",
        "!pip install keras\n",
        "!pip install tensorflow-addons"
      ]
    },
    {
      "cell_type": "code",
      "source": [
        "import numpy as np\n",
        "import tensorflow as tf\n",
        "from tensorflow import keras\n",
        "from tensorflow.keras import layers\n",
        "import tensorflow_addons as tfa"
      ],
      "metadata": {
        "id": "5Qce75vGqkMQ",
        "colab": {
          "base_uri": "https://localhost:8080/"
        },
        "outputId": "0ce57462-ad4d-404b-e160-24391124a087"
      },
      "execution_count": 2,
      "outputs": [
        {
          "output_type": "stream",
          "name": "stderr",
          "text": [
            "/usr/local/lib/python3.10/dist-packages/tensorflow_addons/utils/tfa_eol_msg.py:23: UserWarning: \n",
            "\n",
            "TensorFlow Addons (TFA) has ended development and introduction of new features.\n",
            "TFA has entered a minimal maintenance and release mode until a planned end of life in May 2024.\n",
            "Please modify downstream libraries to take dependencies from other repositories in our TensorFlow community (e.g. Keras, Keras-CV, and Keras-NLP). \n",
            "\n",
            "For more information see: https://github.com/tensorflow/addons/issues/2807 \n",
            "\n",
            "  warnings.warn(\n"
          ]
        }
      ]
    },
    {
      "cell_type": "code",
      "source": [
        "num_classes=10\n",
        "input_shape = (32,32,3)\n",
        "\n",
        "(x_train, y_train), (x_test, y_test) = keras.datasets.cifar10.load_data()\n",
        "\n",
        "print (f\"x_train shape: {x_train.shape} - y_train shape: {y_train.shape}\")\n",
        "print (f\"x_test shape: {x_test.shape} - y_test shape: {y_test.shape}\")"
      ],
      "metadata": {
        "id": "ZeqcVKIRq93n",
        "colab": {
          "base_uri": "https://localhost:8080/"
        },
        "outputId": "0d152c6c-3d87-4415-82db-569de6f88e98"
      },
      "execution_count": 3,
      "outputs": [
        {
          "output_type": "stream",
          "name": "stdout",
          "text": [
            "Downloading data from https://www.cs.toronto.edu/~kriz/cifar-10-python.tar.gz\n",
            "170498071/170498071 [==============================] - 4s 0us/step\n",
            "x_train shape: (50000, 32, 32, 3) - y_train shape: (50000, 1)\n",
            "x_test shape: (10000, 32, 32, 3) - y_test shape: (10000, 1)\n"
          ]
        }
      ]
    },
    {
      "cell_type": "code",
      "source": [
        "#input_shape = (32,32,3)"
      ],
      "metadata": {
        "id": "i7xbzxJ1UJJY"
      },
      "execution_count": 4,
      "outputs": []
    },
    {
      "cell_type": "code",
      "source": [
        "x_train=x_train[:500]\n",
        "y_train=y_train[:500]\n",
        "x_test=x_test[:500]\n",
        "y_ttest=y_test[:500]"
      ],
      "metadata": {
        "id": "ieHgxrEpYfT4"
      },
      "execution_count": 5,
      "outputs": []
    },
    {
      "cell_type": "code",
      "source": [
        "learning_rate = 0.001\n",
        "weight_decay = 0.0001\n",
        "batch_size = 256\n",
        "num_epochs = 40\n",
        "image_size = 72\n",
        "patch_size= 6\n",
        "num_patches = (image_size // patch_size) ** 2\n",
        "projection_dim = 64\n",
        "num_heads=4\n",
        "transformer_units = [\n",
        "    projection_dim*2,\n",
        "    projection_dim\n",
        "]\n",
        "transformer_layers=8\n",
        "mlp_head_units = [2048, 1024]"
      ],
      "metadata": {
        "id": "OARGDpc0sI_4"
      },
      "execution_count": 6,
      "outputs": []
    },
    {
      "cell_type": "code",
      "source": [
        "data_augmentation = keras.Sequential(\n",
        "    [\n",
        "      layers.Normalization(),\n",
        "      layers.Resizing(image_size, image_size),\n",
        "      layers.RandomFlip(\"horizontal\"),\n",
        "      layers.RandomRotation(factor=0.02),\n",
        "      layers.RandomZoom(\n",
        "          height_factor = 0.2, width_factor = 0.2)\n",
        "    ],\n",
        "    name=\"data_augmentation\"\n",
        ")\n",
        "data_augmentation.layers[0].adapt(x_train)"
      ],
      "metadata": {
        "id": "IgzWBpoHtJ-F"
      },
      "execution_count": 7,
      "outputs": []
    },
    {
      "cell_type": "code",
      "source": [
        "def mlp(x, hidden_units, dropout_rate):\n",
        "    for units in hidden_units:\n",
        "        x = layers.Dense(units, activation=tf.nn.gelu)(x)\n",
        "        x = layers.Dropout(dropout_rate)(x)\n",
        "    return x"
      ],
      "metadata": {
        "id": "jpPJh9xhvLrs"
      },
      "execution_count": 8,
      "outputs": []
    },
    {
      "cell_type": "code",
      "source": [
        "class Patches(layers.Layer):\n",
        "  def __init__(self, patch_size):\n",
        "    super(Patches, self). __init__()\n",
        "    self.patch_size = patch_size\n",
        "\n",
        "  def call (self, images):\n",
        "    batch_size = tf.shape(images)[0]\n",
        "    patches = tf.image.extract_patches(\n",
        "        images=images,\n",
        "        sizes=[1, self.patch_size, self.patch_size, 1],\n",
        "        strides=[1,self.patch_size, self.patch_size, 1],\n",
        "        rates=[1,1,1,1],\n",
        "        padding=\"VALID\",\n",
        "    )\n",
        "    patch_dims = patches.shape[-1]\n",
        "    patches = tf.reshape(patches,[batch_size,-1,patch_dims])\n",
        "    return patches"
      ],
      "metadata": {
        "id": "i9ozep4jvlvu"
      },
      "execution_count": 9,
      "outputs": []
    },
    {
      "cell_type": "code",
      "source": [
        "import matplotlib.pyplot as plt\n",
        "\n",
        "plt.figure(figsize=(4,4))\n",
        "image = x_train[np.random.choice(range(x_train.shape[0]))]\n",
        "plt.imshow(image.astype(\"uint8\"))\n",
        "plt.axis(\"off\")\n",
        "\n",
        "resized_image = tf.image.resize(\n",
        "    tf.convert_to_tensor([image]), size= (image_size, image_size)\n",
        ")\n",
        "patches = Patches(patch_size)(resized_image)\n",
        "print (f\"Image size: {image_size} X {image_size}\")\n",
        "print (f\"Patch size: {patch_size} X {patch_size}\")\n",
        "print (f\"Patches per image: {patches.shape[1]}\")\n",
        "print (f\"Elements per patch: {patches.shape[-1]}\")\n",
        "\n",
        "n = int(np.sqrt(patches.shape[1]))\n",
        "plt.figure(figsize=(4,4))\n",
        "for i, patch in enumerate(patches[0]):\n",
        "  ax = plt.subplot(n, n, i+1)\n",
        "  patch_img = tf.reshape(patch, (patch_size, patch_size, 3))\n",
        "  plt.imshow(patch_img.numpy().astype(\"uint8\"))\n",
        "  plt.axis(\"off\")\n"
      ],
      "metadata": {
        "id": "xVDrT2C2xCk2",
        "colab": {
          "base_uri": "https://localhost:8080/",
          "height": 746
        },
        "outputId": "58811f88-0441-4cc4-bc71-abb79230b9ce"
      },
      "execution_count": 10,
      "outputs": [
        {
          "output_type": "stream",
          "name": "stdout",
          "text": [
            "Image size: 72 X 72\n",
            "Patch size: 6 X 6\n",
            "Patches per image: 144\n",
            "Elements per patch: 108\n"
          ]
        },
        {
          "output_type": "display_data",
          "data": {
            "text/plain": [
              "<Figure size 400x400 with 1 Axes>"
            ],
            "image/png": "[encoded data removed]"
          },
          "metadata": {}
        },
        {
          "output_type": "display_data",
          "data": {
            "text/plain": [
              "<Figure size 400x400 with 144 Axes>"
            ],
            "image/png": "[encoded data removed]"
          },
          "metadata": {}
        }
      ]
    },
    {
      "cell_type": "code",
      "source": [
        "class PatchEncoder(layers.Layer):\n",
        "    def __init__(self, num_patches, projection_dim):\n",
        "        super(PatchEncoder, self).__init__()\n",
        "        self.num_patches = num_patches\n",
        "        self.projection = layers.Dense(units=projection_dim)\n",
        "        self.position_embedding = layers.Embedding(\n",
        "            input_dim=num_patches, output_dim=projection_dim\n",
        "        )\n",
        "\n",
        "    def call(self, patch):\n",
        "        positions = tf.range(start=0, limit=self.num_patches, delta=1)\n",
        "        encoded = self.projection(patch) + self.position_embedding(positions)\n",
        "        return encoded\n"
      ],
      "metadata": {
        "id": "dvP8JySe0uQs"
      },
      "execution_count": 11,
      "outputs": []
    },
    {
      "cell_type": "code",
      "source": [
        "def create_vit_classifier(input_shape):\n",
        "    inputs = layers.Input(shape=input_shape)\n",
        "    augmented = data_augmentation(inputs)\n",
        "    patches = Patches(patch_size)(augmented)\n",
        "    encoded_patches = PatchEncoder(num_patches, projection_dim)(patches)\n",
        "\n",
        "    for _ in range(transformer_layers):\n",
        "      x1 = layers.LayerNormalization(epsilon=1e-6)(encoded_patches)\n",
        "      attention_output = layers.MultiHeadAttention(\n",
        "          num_heads=num_heads, key_dim=projection_dim, dropout=0.1\n",
        "          )(x1,x1)\n",
        "      x2 = layers.Add()([attention_output, encoded_patches])\n",
        "      x3 = layers.LayerNormalization(epsilon=1e-6)(x2)\n",
        "      x3 = mlp(x3, hidden_units=transformer_units, dropout_rate=0.1)\n",
        "      encoded_patches = layers.Add()([x3,x2])\n",
        "      representation = layers.LayerNormalization(epsilon=1e-6)(encoded_patches)\n",
        "      representation = layers.Flatten()(representation)\n",
        "      representation = layers.Dropout(0.5)(representation)\n",
        "      features = mlp(representation, hidden_units=mlp_head_units, dropout_rate=0.5)\n",
        "      logits = layers.Dense(num_classes)(features)\n",
        "      model = keras.Model(inputs=inputs, outputs=logits)\n",
        "      return model"
      ],
      "metadata": {
        "id": "gHzgxYCc1hoO"
      },
      "execution_count": 12,
      "outputs": []
    },
    {
      "cell_type": "code",
      "source": [
        "def run_experiment(model):\n",
        "    optimizer = tfa.optimizers.AdamW(\n",
        "        learning_rate=learning_rate, weight_decay=weight_decay  # Corrected typo\n",
        "    )\n",
        "    model.compile(\n",
        "        optimizer=optimizer,\n",
        "        loss=keras.losses.SparseCategoricalCrossentropy(from_logits=True),\n",
        "        metrics=[  # Corrected typo\n",
        "            keras.metrics.SparseCategoricalAccuracy(name=\"accuracy\"),\n",
        "            keras.metrics.SparseTopKCategoricalAccuracy(5, name=\"top_5_accuracy\"),  # Corrected typo\n",
        "        ],\n",
        "    )\n",
        "    checkpoint_filepath = \"./tmp/checkpoint\"\n",
        "    checkpoint_callback = keras.callbacks.ModelCheckpoint(\n",
        "        checkpoint_filepath,\n",
        "        monitor=\"val_accuracy\",\n",
        "        save_best_only=True,\n",
        "        save_weights_only=True,\n",
        "    )\n",
        "    history = model.fit(\n",
        "        x=x_train,  # Corrected argument name\n",
        "        y=y_train,  # Corrected argument name\n",
        "        batch_size=batch_size,\n",
        "        epochs=num_epochs,\n",
        "        validation_split=0.1,\n",
        "        callbacks=[checkpoint_callback],\n",
        "    )\n",
        "    model.load_weights(checkpoint_filepath)\n",
        "    _, accuracy, top_5_accuracy = model.evaluate(x_test, y_test)\n",
        "    print(f\"Test accuracy: {round(accuracy * 100, 2)}%\")\n",
        "    print(f\"Test Top 5 accuracy: {round(top_5_accuracy * 100, 2)}%\")"
      ],
      "metadata": {
        "id": "cIa2s8BlFsqI"
      },
      "execution_count": 13,
      "outputs": []
    },
    {
      "cell_type": "code",
      "source": [
        "vit_classifier = create_vit_classifier(input_shape)\n",
        "history = run_experiment(vit_classifier)"
      ],
      "metadata": {
        "id": "p-zkjZpxGqQL",
        "colab": {
          "base_uri": "https://localhost:8080/",
          "height": 1000
        },
        "outputId": "4cd31b4f-ef4f-45ca-b251-f3148592c60c"
      },
      "execution_count": 14,
      "outputs": [
        {
          "output_type": "stream",
          "name": "stdout",
          "text": [
            "Epoch 1/40\n",
            "2/2 [==============================] - 18s 5s/step - loss: 5.3187 - accuracy: 0.1333 - top_5_accuracy: 0.5511 - val_loss: 5.6406 - val_accuracy: 0.1400 - val_top_5_accuracy: 0.6800\n",
            "Epoch 2/40\n",
            "2/2 [==============================] - 7s 3s/step - loss: 5.4477 - accuracy: 0.2578 - top_5_accuracy: 0.6911 - val_loss: 3.4552 - val_accuracy: 0.2400 - val_top_5_accuracy: 0.7000\n",
            "Epoch 3/40\n",
            "2/2 [==============================] - 8s 4s/step - loss: 4.1329 - accuracy: 0.2556 - top_5_accuracy: 0.7244 - val_loss: 2.8625 - val_accuracy: 0.2600 - val_top_5_accuracy: 0.7200\n",
            "Epoch 4/40\n",
            "2/2 [==============================] - 6s 3s/step - loss: 3.5108 - accuracy: 0.2778 - top_5_accuracy: 0.7556 - val_loss: 2.9426 - val_accuracy: 0.1600 - val_top_5_accuracy: 0.7200\n",
            "Epoch 5/40\n",
            "2/2 [==============================] - 7s 3s/step - loss: 2.7956 - accuracy: 0.3578 - top_5_accuracy: 0.8044 - val_loss: 2.1011 - val_accuracy: 0.3200 - val_top_5_accuracy: 0.7800\n",
            "Epoch 6/40\n",
            "2/2 [==============================] - 6s 3s/step - loss: 2.3956 - accuracy: 0.3333 - top_5_accuracy: 0.8244 - val_loss: 2.0937 - val_accuracy: 0.3000 - val_top_5_accuracy: 0.8200\n",
            "Epoch 7/40\n",
            "2/2 [==============================] - 7s 3s/step - loss: 2.3172 - accuracy: 0.3533 - top_5_accuracy: 0.8133 - val_loss: 2.0241 - val_accuracy: 0.3000 - val_top_5_accuracy: 0.7800\n",
            "Epoch 8/40\n",
            "2/2 [==============================] - 6s 3s/step - loss: 2.1645 - accuracy: 0.3422 - top_5_accuracy: 0.8489 - val_loss: 1.9351 - val_accuracy: 0.3000 - val_top_5_accuracy: 0.7600\n",
            "Epoch 9/40\n",
            "2/2 [==============================] - 7s 3s/step - loss: 1.9170 - accuracy: 0.3800 - top_5_accuracy: 0.8556 - val_loss: 1.9650 - val_accuracy: 0.2600 - val_top_5_accuracy: 0.7400\n",
            "Epoch 10/40\n",
            "2/2 [==============================] - 6s 3s/step - loss: 1.9148 - accuracy: 0.3689 - top_5_accuracy: 0.8467 - val_loss: 1.9154 - val_accuracy: 0.2600 - val_top_5_accuracy: 0.7200\n",
            "Epoch 11/40\n",
            "2/2 [==============================] - 7s 2s/step - loss: 1.7183 - accuracy: 0.4267 - top_5_accuracy: 0.8511 - val_loss: 1.8577 - val_accuracy: 0.2600 - val_top_5_accuracy: 0.7400\n",
            "Epoch 12/40\n",
            "2/2 [==============================] - 6s 3s/step - loss: 1.7896 - accuracy: 0.3933 - top_5_accuracy: 0.8978 - val_loss: 1.8200 - val_accuracy: 0.3000 - val_top_5_accuracy: 0.8200\n",
            "Epoch 13/40\n",
            "2/2 [==============================] - 8s 3s/step - loss: 1.6336 - accuracy: 0.4378 - top_5_accuracy: 0.9111 - val_loss: 1.8105 - val_accuracy: 0.2600 - val_top_5_accuracy: 0.8000\n",
            "Epoch 14/40\n",
            "2/2 [==============================] - 6s 3s/step - loss: 1.6874 - accuracy: 0.4467 - top_5_accuracy: 0.8822 - val_loss: 1.8642 - val_accuracy: 0.2600 - val_top_5_accuracy: 0.7800\n",
            "Epoch 15/40\n",
            "2/2 [==============================] - 7s 3s/step - loss: 1.6359 - accuracy: 0.4622 - top_5_accuracy: 0.9067 - val_loss: 1.9052 - val_accuracy: 0.2600 - val_top_5_accuracy: 0.7800\n",
            "Epoch 16/40\n",
            "2/2 [==============================] - 7s 3s/step - loss: 1.4904 - accuracy: 0.4756 - top_5_accuracy: 0.9000 - val_loss: 1.8549 - val_accuracy: 0.3000 - val_top_5_accuracy: 0.8000\n",
            "Epoch 17/40\n",
            "2/2 [==============================] - 7s 3s/step - loss: 1.4487 - accuracy: 0.5156 - top_5_accuracy: 0.9089 - val_loss: 1.8269 - val_accuracy: 0.3000 - val_top_5_accuracy: 0.8000\n",
            "Epoch 18/40\n",
            "2/2 [==============================] - 7s 3s/step - loss: 1.3721 - accuracy: 0.5333 - top_5_accuracy: 0.9400 - val_loss: 1.8506 - val_accuracy: 0.2800 - val_top_5_accuracy: 0.8200\n",
            "Epoch 19/40\n",
            "2/2 [==============================] - 7s 3s/step - loss: 1.3879 - accuracy: 0.5244 - top_5_accuracy: 0.9356 - val_loss: 1.8912 - val_accuracy: 0.2800 - val_top_5_accuracy: 0.8000\n",
            "Epoch 20/40\n",
            "2/2 [==============================] - 7s 4s/step - loss: 1.2802 - accuracy: 0.5556 - top_5_accuracy: 0.9267 - val_loss: 1.9028 - val_accuracy: 0.2600 - val_top_5_accuracy: 0.8400\n",
            "Epoch 21/40\n",
            "2/2 [==============================] - 6s 3s/step - loss: 1.3019 - accuracy: 0.5667 - top_5_accuracy: 0.9444 - val_loss: 1.8863 - val_accuracy: 0.2800 - val_top_5_accuracy: 0.8600\n",
            "Epoch 22/40\n",
            "2/2 [==============================] - 8s 4s/step - loss: 1.1773 - accuracy: 0.5978 - top_5_accuracy: 0.9578 - val_loss: 1.8893 - val_accuracy: 0.2600 - val_top_5_accuracy: 0.8600\n",
            "Epoch 23/40\n",
            "2/2 [==============================] - 6s 3s/step - loss: 1.2162 - accuracy: 0.5933 - top_5_accuracy: 0.9600 - val_loss: 1.9466 - val_accuracy: 0.2400 - val_top_5_accuracy: 0.8400\n",
            "Epoch 24/40\n",
            "2/2 [==============================] - 7s 4s/step - loss: 1.2573 - accuracy: 0.5978 - top_5_accuracy: 0.9444 - val_loss: 1.9997 - val_accuracy: 0.2200 - val_top_5_accuracy: 0.8200\n",
            "Epoch 25/40\n",
            "2/2 [==============================] - 6s 3s/step - loss: 1.2251 - accuracy: 0.5978 - top_5_accuracy: 0.9533 - val_loss: 2.0174 - val_accuracy: 0.2400 - val_top_5_accuracy: 0.8200\n",
            "Epoch 26/40\n",
            "2/2 [==============================] - 7s 4s/step - loss: 1.0631 - accuracy: 0.6244 - top_5_accuracy: 0.9600 - val_loss: 2.0245 - val_accuracy: 0.3200 - val_top_5_accuracy: 0.8000\n",
            "Epoch 27/40\n",
            "2/2 [==============================] - 11s 8s/step - loss: 0.9846 - accuracy: 0.6400 - top_5_accuracy: 0.9778 - val_loss: 2.0366 - val_accuracy: 0.3400 - val_top_5_accuracy: 0.8200\n",
            "Epoch 28/40\n",
            "2/2 [==============================] - 6s 3s/step - loss: 0.9872 - accuracy: 0.6733 - top_5_accuracy: 0.9689 - val_loss: 2.0738 - val_accuracy: 0.3200 - val_top_5_accuracy: 0.8400\n",
            "Epoch 29/40\n",
            "2/2 [==============================] - 6s 3s/step - loss: 1.0033 - accuracy: 0.6578 - top_5_accuracy: 0.9733 - val_loss: 2.1153 - val_accuracy: 0.3200 - val_top_5_accuracy: 0.8200\n",
            "Epoch 30/40\n",
            "2/2 [==============================] - 7s 3s/step - loss: 0.8485 - accuracy: 0.7000 - top_5_accuracy: 0.9778 - val_loss: 2.1641 - val_accuracy: 0.3200 - val_top_5_accuracy: 0.8000\n",
            "Epoch 31/40\n",
            "2/2 [==============================] - 6s 3s/step - loss: 0.9471 - accuracy: 0.6711 - top_5_accuracy: 0.9711 - val_loss: 2.1763 - val_accuracy: 0.3200 - val_top_5_accuracy: 0.8400\n",
            "Epoch 32/40\n",
            "2/2 [==============================] - 7s 3s/step - loss: 0.8568 - accuracy: 0.6933 - top_5_accuracy: 0.9822 - val_loss: 2.1469 - val_accuracy: 0.2800 - val_top_5_accuracy: 0.8400\n",
            "Epoch 33/40\n",
            "2/2 [==============================] - 7s 3s/step - loss: 0.8738 - accuracy: 0.7133 - top_5_accuracy: 0.9889 - val_loss: 2.2137 - val_accuracy: 0.2400 - val_top_5_accuracy: 0.8200\n",
            "Epoch 34/40\n",
            "2/2 [==============================] - 6s 3s/step - loss: 0.8369 - accuracy: 0.7022 - top_5_accuracy: 0.9844 - val_loss: 2.2151 - val_accuracy: 0.3000 - val_top_5_accuracy: 0.8200\n",
            "Epoch 35/40\n",
            "2/2 [==============================] - 7s 3s/step - loss: 0.7670 - accuracy: 0.7133 - top_5_accuracy: 0.9889 - val_loss: 2.2173 - val_accuracy: 0.3200 - val_top_5_accuracy: 0.8400\n",
            "Epoch 36/40\n",
            "2/2 [==============================] - 6s 3s/step - loss: 0.7958 - accuracy: 0.7378 - top_5_accuracy: 0.9867 - val_loss: 2.2627 - val_accuracy: 0.3000 - val_top_5_accuracy: 0.8600\n",
            "Epoch 37/40\n",
            "2/2 [==============================] - 7s 3s/step - loss: 0.6986 - accuracy: 0.7533 - top_5_accuracy: 0.9889 - val_loss: 2.3075 - val_accuracy: 0.2800 - val_top_5_accuracy: 0.8800\n",
            "Epoch 38/40\n",
            "2/2 [==============================] - 7s 3s/step - loss: 0.7734 - accuracy: 0.7311 - top_5_accuracy: 0.9956 - val_loss: 2.3756 - val_accuracy: 0.3200 - val_top_5_accuracy: 0.8800\n",
            "Epoch 39/40\n",
            "2/2 [==============================] - 14s 9s/step - loss: 0.6980 - accuracy: 0.7467 - top_5_accuracy: 0.9933 - val_loss: 2.4487 - val_accuracy: 0.3600 - val_top_5_accuracy: 0.8800\n",
            "Epoch 40/40\n",
            "2/2 [==============================] - 7s 4s/step - loss: 0.5682 - accuracy: 0.7889 - top_5_accuracy: 1.0000 - val_loss: 2.5402 - val_accuracy: 0.3000 - val_top_5_accuracy: 0.8800\n"
          ]
        },
        {
          "output_type": "error",
          "ename": "ValueError",
          "evalue": "Data cardinality is ambiguous:\n  x sizes: 500\n  y sizes: 10000\nMake sure all arrays contain the same number of samples.",
          "traceback": [
            "\u001b[0;31m---------------------------------------------------------------------------\u001b[0m",
            "\u001b[0;31mValueError\u001b[0m                                Traceback (most recent call last)",
            "\u001b[0;32m<ipython-input-14-e919e679485a>\u001b[0m in \u001b[0;36m<cell line: 2>\u001b[0;34m()\u001b[0m\n\u001b[1;32m      1\u001b[0m \u001b[0mvit_classifier\u001b[0m \u001b[0;34m=\u001b[0m \u001b[0mcreate_vit_classifier\u001b[0m\u001b[0;34m(\u001b[0m\u001b[0minput_shape\u001b[0m\u001b[0;34m)\u001b[0m\u001b[0;34m\u001b[0m\u001b[0;34m\u001b[0m\u001b[0m\n\u001b[0;32m----> 2\u001b[0;31m \u001b[0mhistory\u001b[0m \u001b[0;34m=\u001b[0m \u001b[0mrun_experiment\u001b[0m\u001b[0;34m(\u001b[0m\u001b[0mvit_classifier\u001b[0m\u001b[0;34m)\u001b[0m\u001b[0;34m\u001b[0m\u001b[0;34m\u001b[0m\u001b[0m\n\u001b[0m",
            "\u001b[0;32m<ipython-input-13-e4f7aa844d21>\u001b[0m in \u001b[0;36mrun_experiment\u001b[0;34m(model)\u001b[0m\n\u001b[1;32m     27\u001b[0m     )\n\u001b[1;32m     28\u001b[0m     \u001b[0mmodel\u001b[0m\u001b[0;34m.\u001b[0m\u001b[0mload_weights\u001b[0m\u001b[0;34m(\u001b[0m\u001b[0mcheckpoint_filepath\u001b[0m\u001b[0;34m)\u001b[0m\u001b[0;34m\u001b[0m\u001b[0;34m\u001b[0m\u001b[0m\n\u001b[0;32m---> 29\u001b[0;31m     \u001b[0m_\u001b[0m\u001b[0;34m,\u001b[0m \u001b[0maccuracy\u001b[0m\u001b[0;34m,\u001b[0m \u001b[0mtop_5_accuracy\u001b[0m \u001b[0;34m=\u001b[0m \u001b[0mmodel\u001b[0m\u001b[0;34m.\u001b[0m\u001b[0mevaluate\u001b[0m\u001b[0;34m(\u001b[0m\u001b[0mx_test\u001b[0m\u001b[0;34m,\u001b[0m \u001b[0my_test\u001b[0m\u001b[0;34m)\u001b[0m\u001b[0;34m\u001b[0m\u001b[0;34m\u001b[0m\u001b[0m\n\u001b[0m\u001b[1;32m     30\u001b[0m     \u001b[0mprint\u001b[0m\u001b[0;34m(\u001b[0m\u001b[0;34mf\"Test accuracy: {round(accuracy * 100, 2)}%\"\u001b[0m\u001b[0;34m)\u001b[0m\u001b[0;34m\u001b[0m\u001b[0;34m\u001b[0m\u001b[0m\n\u001b[1;32m     31\u001b[0m     \u001b[0mprint\u001b[0m\u001b[0;34m(\u001b[0m\u001b[0;34mf\"Test Top 5 accuracy: {round(top_5_accuracy * 100, 2)}%\"\u001b[0m\u001b[0;34m)\u001b[0m\u001b[0;34m\u001b[0m\u001b[0;34m\u001b[0m\u001b[0m\n",
            "\u001b[0;32m/usr/local/lib/python3.10/dist-packages/keras/src/utils/traceback_utils.py\u001b[0m in \u001b[0;36merror_handler\u001b[0;34m(*args, **kwargs)\u001b[0m\n\u001b[1;32m     68\u001b[0m             \u001b[0;31m# To get the full stack trace, call:\u001b[0m\u001b[0;34m\u001b[0m\u001b[0;34m\u001b[0m\u001b[0m\n\u001b[1;32m     69\u001b[0m             \u001b[0;31m# `tf.debugging.disable_traceback_filtering()`\u001b[0m\u001b[0;34m\u001b[0m\u001b[0;34m\u001b[0m\u001b[0m\n\u001b[0;32m---> 70\u001b[0;31m             \u001b[0;32mraise\u001b[0m \u001b[0me\u001b[0m\u001b[0;34m.\u001b[0m\u001b[0mwith_traceback\u001b[0m\u001b[0;34m(\u001b[0m\u001b[0mfiltered_tb\u001b[0m\u001b[0;34m)\u001b[0m \u001b[0;32mfrom\u001b[0m \u001b[0;32mNone\u001b[0m\u001b[0;34m\u001b[0m\u001b[0;34m\u001b[0m\u001b[0m\n\u001b[0m\u001b[1;32m     71\u001b[0m         \u001b[0;32mfinally\u001b[0m\u001b[0;34m:\u001b[0m\u001b[0;34m\u001b[0m\u001b[0;34m\u001b[0m\u001b[0m\n\u001b[1;32m     72\u001b[0m             \u001b[0;32mdel\u001b[0m \u001b[0mfiltered_tb\u001b[0m\u001b[0;34m\u001b[0m\u001b[0;34m\u001b[0m\u001b[0m\n",
            "\u001b[0;32m/usr/local/lib/python3.10/dist-packages/keras/src/engine/data_adapter.py\u001b[0m in \u001b[0;36m_check_data_cardinality\u001b[0;34m(data)\u001b[0m\n\u001b[1;32m   1958\u001b[0m             )\n\u001b[1;32m   1959\u001b[0m         \u001b[0mmsg\u001b[0m \u001b[0;34m+=\u001b[0m \u001b[0;34m\"Make sure all arrays contain the same number of samples.\"\u001b[0m\u001b[0;34m\u001b[0m\u001b[0;34m\u001b[0m\u001b[0m\n\u001b[0;32m-> 1960\u001b[0;31m         \u001b[0;32mraise\u001b[0m \u001b[0mValueError\u001b[0m\u001b[0;34m(\u001b[0m\u001b[0mmsg\u001b[0m\u001b[0;34m)\u001b[0m\u001b[0;34m\u001b[0m\u001b[0;34m\u001b[0m\u001b[0m\n\u001b[0m\u001b[1;32m   1961\u001b[0m \u001b[0;34m\u001b[0m\u001b[0m\n\u001b[1;32m   1962\u001b[0m \u001b[0;34m\u001b[0m\u001b[0m\n",
            "\u001b[0;31mValueError\u001b[0m: Data cardinality is ambiguous:\n  x sizes: 500\n  y sizes: 10000\nMake sure all arrays contain the same number of samples."
          ]
        }
      ]
    }
  ]
}